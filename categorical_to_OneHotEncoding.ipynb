{
 "cells": [
  {
   "cell_type": "code",
   "execution_count": 1,
   "metadata": {},
   "outputs": [
    {
     "name": "stdout",
     "output_type": "stream",
     "text": [
      "['var13' 'var13' 'var13' ... 'var1' 'var1' 'var1']\n"
     ]
    }
   ],
   "source": [
    "\n",
    "import numpy as np\n",
    "values=np.load(\"y.npy\") #y.npy with categorical data\n",
    "print(values)\n",
    "      "
   ]
  },
  {
   "cell_type": "code",
   "execution_count": 2,
   "metadata": {},
   "outputs": [
    {
     "name": "stdout",
     "output_type": "stream",
     "text": [
      "(45630, 1)\n"
     ]
    }
   ],
   "source": [
    "#conversion of categorical data(labels) to integer encoding then to one-hot encoding\n",
    "\n",
    "from sklearn.preprocessing import OneHotEncoder,LabelEncoder\n",
    "\n",
    "enc = OneHotEncoder(handle_unknown='ignore')\n",
    "\n",
    "lben=LabelEncoder()\n",
    "values=lben.fit_transform(values)\n",
    "values1=values.reshape(-1,1)\n",
    "print(values1.shape)\n",
    "enc.fit(values1)\n",
    "onehotlabels = enc.transform(values1).toarray()\n",
    "onehotlabels\n",
    "np.save(\"y_onehot.npy\",onehotlabels)\n"
   ]
  },
  {
   "cell_type": "code",
   "execution_count": 3,
   "metadata": {},
   "outputs": [
    {
     "name": "stdout",
     "output_type": "stream",
     "text": [
      "(45630, 7)\n"
     ]
    }
   ],
   "source": [
    "j=np.load(\"y_onehot.npy\")\n",
    "print(j.shape)"
   ]
  }
 ],
 "metadata": {
  "kernelspec": {
   "display_name": "Python 3",
   "language": "python",
   "name": "python3"
  },
  "language_info": {
   "codemirror_mode": {
    "name": "ipython",
    "version": 3
   },
   "file_extension": ".py",
   "mimetype": "text/x-python",
   "name": "python",
   "nbconvert_exporter": "python",
   "pygments_lexer": "ipython3",
   "version": "3.6.5"
  }
 },
 "nbformat": 4,
 "nbformat_minor": 2
}
